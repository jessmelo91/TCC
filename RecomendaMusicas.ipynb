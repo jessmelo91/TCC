{
 "cells": [
  {
   "cell_type": "code",
   "execution_count": 1,
   "metadata": {},
   "outputs": [],
   "source": [
    "## Importação das bibliotecas\n",
    "\n",
    "import pandas as pd\n",
    "from sklearn.preprocessing import StandardScaler\n",
    "from scipy.spatial import distance\n",
    "from ipywidgets import interact, interactive, fixed, interact_manual\n",
    "import ipywidgets as widgets"
   ]
  },
  {
   "cell_type": "code",
   "execution_count": 2,
   "metadata": {},
   "outputs": [],
   "source": [
    "## Importação dos datasets\n",
    "\n",
    "df = pd.read_csv(r\"C:\\TCC\\Datasets\\data.csv\", delimiter = ',', encoding = 'latin-1')"
   ]
  },
  {
   "cell_type": "code",
   "execution_count": 3,
   "metadata": {},
   "outputs": [],
   "source": [
    "## Elimina espaços em branco antes e depois da string\n",
    "\n",
    "df.artists.str.strip() \n",
    "df.name.str.strip() \n",
    "\n",
    "\n",
    "## Dropa colunas não utilizadas\n",
    "\n",
    "df.drop(columns = ['id', 'release_date'], inplace = True)\n",
    "\n",
    "\n",
    "## Padroniza as colunas\n",
    "\n",
    "x = df[df.drop(columns = ['artists', 'name']).columns].values\n",
    "scaler = StandardScaler().fit(x)\n",
    "x_scaled = scaler.transform(x)\n",
    "df[df.drop(columns = ['artists', 'name']).columns] = x_scaled\n"
   ]
  },
  {
   "cell_type": "code",
   "execution_count": 4,
   "metadata": {},
   "outputs": [],
   "source": [
    "## Função para buscar as músicas no dataset\n",
    "\n",
    "def busca_musica(musica, df, number = 10):\n",
    "    df.drop_duplicates(inplace = True)\n",
    "    musicas = df['name'].values\n",
    "    artistas = df['artists'].values\n",
    "    t = []\n",
    "    count = 0\n",
    "    if musica[-1] == ' ':\n",
    "        musica = musica[:-1]\n",
    "    for i in musicas:\n",
    "        if musica.lower() in i.lower():\n",
    "            t.append([len(musica)/len(i), count])\n",
    "        else:\n",
    "            t.append([0, count])\n",
    "        count += 1\n",
    "    t.sort(reverse = True)\n",
    "    s = [[musicas[t[i][1]], artistas[t[i][1]].strip('][').split(', ')] for i in range(number)]   \n",
    "    lista_musicas = [musicas[t[i][1]] for i in range(number)]\n",
    "    artista = [artistas[t[i][1]] for i in range(number)]\n",
    "    x = []\n",
    "    for i in s:\n",
    "        l = ''\n",
    "        by = ''\n",
    "        for j in i[1]:\n",
    "            by += j\n",
    "        l += i[0] + ' por ' + by\n",
    "        x.append(l)\n",
    "    tup = []\n",
    "    for i in range(number):\n",
    "        tup.append((x[i], i))\n",
    "\n",
    "    \n",
    "    return tup, lista_musicas, artista"
   ]
  },
  {
   "cell_type": "code",
   "execution_count": 14,
   "metadata": {},
   "outputs": [],
   "source": [
    "##Função de recomendação utilizando matriz de correlação\n",
    "\n",
    "def mat_corr(df, nome_musica, number, artista):\n",
    "    df.drop_duplicates(subset = ['artists','name'], inplace = True)\n",
    "    x = df[(df['name'] == nome_musica) & (df['artists'] == artista)].drop(columns = ['name', 'artists']).values\n",
    "    artista = artista.replace(\"'\", \"\").replace(\"'\", \"\").replace('[', '').replace(']', '')\n",
    "    if ',' in artista:\n",
    "        inm = artista.rfind(\",\")\n",
    "        artista = artista[:inm] + ' e' + artista[inm + 1:]\n",
    "    print('A música selecionada é:', nome_musica, ' por ', artista, '\\n')\n",
    "    \n",
    "\n",
    "    song_names = df['name'].values\n",
    "    p = []\n",
    "    count = 0\n",
    "    for i in df.drop(columns = ['artists', 'name']).values:\n",
    "        p.append([distance.correlation(x, i), count])\n",
    "        count += 1\n",
    "    p.sort()\n",
    "    for i in range(1, number + 1):\n",
    "        artistas = df['artists'].values\n",
    "        artista = artistas[p[i][1]]\n",
    "        artista = artista.replace(\"'\", \"\").replace(\"'\", \"\").replace('[', '').replace(']', '')\n",
    "        if ',' in artista:\n",
    "            inm = artista.rfind(\",\")\n",
    "            artista = artista[:inm] + ' e ' + artista[inm + 1:]\n",
    "        print(i, '. ', song_names[p[i][1]], 'por', artista)\n",
    " "
   ]
  },
  {
   "cell_type": "code",
   "execution_count": 15,
   "metadata": {},
   "outputs": [
    {
     "name": "stdout",
     "output_type": "stream",
     "text": [
      "Insira o nome da música:Angel\n",
      "Quantas recomendações você precisa? 5\n"
     ]
    },
    {
     "data": {
      "application/vnd.jupyter.widget-view+json": {
       "model_id": "3791e893ae7546edb0eded6d7183ab76",
       "version_major": 2,
       "version_minor": 0
      },
      "text/plain": [
       "Dropdown(description='Selecione:Angel', options=((\"Angel por 'Dave Matthews Band'\", 0), (\"Angel por 'The Marve…"
      ]
     },
     "metadata": {},
     "output_type": "display_data"
    }
   ],
   "source": [
    "a = input('Insira o nome da música:')\n",
    "b = int(input('Quantas recomendações você precisa? '))\n",
    "tup, s, ar = busca_musica(a, df)\n",
    "ans = widgets.Dropdown(\n",
    "    options = tup,\n",
    "    description = 'Selecione:' + a,\n",
    "    disabled = False,\n",
    ")\n",
    "display(ans)"
   ]
  },
  {
   "cell_type": "code",
   "execution_count": 16,
   "metadata": {},
   "outputs": [
    {
     "name": "stdout",
     "output_type": "stream",
     "text": [
      "A música selecionada é: Angel  por  Dave Matthews Band \n",
      "\n",
      "1 .  Every Heart-ãã³ããã­ã¢ã- por BoA\n",
      "2 .  Feelin' Way Too Damn Good por Nickelback\n",
      "3 .  I Still Miss You por Keith Anderson\n",
      "4 .  Roll with Me por Montgomery Gentry\n",
      "5 .  Water (feat. Rostam) por Ra Ra Riot e  Rostam\n"
     ]
    }
   ],
   "source": [
    "mat_corr(df, s[ans.value], b, ar[ans.value])\n"
   ]
  },
  {
   "cell_type": "code",
   "execution_count": null,
   "metadata": {},
   "outputs": [],
   "source": []
  }
 ],
 "metadata": {
  "kernelspec": {
   "display_name": "Python 3",
   "language": "python",
   "name": "python3"
  },
  "language_info": {
   "codemirror_mode": {
    "name": "ipython",
    "version": 3
   },
   "file_extension": ".py",
   "mimetype": "text/x-python",
   "name": "python",
   "nbconvert_exporter": "python",
   "pygments_lexer": "ipython3",
   "version": "3.8.5"
  }
 },
 "nbformat": 4,
 "nbformat_minor": 4
}
