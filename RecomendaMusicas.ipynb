{
 "cells": [
  {
   "cell_type": "code",
   "execution_count": 1,
   "metadata": {},
   "outputs": [
    {
     "data": {
      "text/html": [
       "        <script type=\"text/javascript\">\n",
       "        window.PlotlyConfig = {MathJaxConfig: 'local'};\n",
       "        if (window.MathJax) {MathJax.Hub.Config({SVG: {font: \"STIX-Web\"}});}\n",
       "        if (typeof require !== 'undefined') {\n",
       "        require.undef(\"plotly\");\n",
       "        requirejs.config({\n",
       "            paths: {\n",
       "                'plotly': ['https://cdn.plot.ly/plotly-latest.min']\n",
       "            }\n",
       "        });\n",
       "        require(['plotly'], function(Plotly) {\n",
       "            window._Plotly = Plotly;\n",
       "        });\n",
       "        }\n",
       "        </script>\n",
       "        "
      ]
     },
     "metadata": {},
     "output_type": "display_data"
    }
   ],
   "source": [
    "## Importação das bibliotecas\n",
    "\n",
    "import pandas as pd\n",
    "import numpy as np\n",
    "import seaborn as sns\n",
    "import plotly \n",
    "import plotly.express as px\n",
    "import plotly.graph_objects as go\n",
    "import matplotlib.pyplot as plt\n",
    "from sklearn.preprocessing import StandardScaler\n",
    "from scipy.spatial import distance\n",
    "import copy\n",
    "from IPython.display import display\n",
    "import warnings\n",
    "from ipywidgets import interact, interactive, fixed, interact_manual\n",
    "import ipywidgets as widgets\n",
    "warnings.filterwarnings(\"ignore\")\n",
    "plotly.offline.init_notebook_mode (connected = True)"
   ]
  },
  {
   "cell_type": "code",
   "execution_count": 2,
   "metadata": {},
   "outputs": [],
   "source": [
    "## Importação dos datasets\n",
    "\n",
    "df = pd.read_csv(r\"C:\\TCC\\Datasets\\data.csv\", delimiter =',', encoding='latin-1')"
   ]
  },
  {
   "cell_type": "code",
   "execution_count": 5,
   "metadata": {},
   "outputs": [
    {
     "data": {
      "text/plain": [
       "acousticness        float64\n",
       "artists              object\n",
       "danceability        float64\n",
       "duration_ms           int64\n",
       "energy              float64\n",
       "explicit              int64\n",
       "id                   object\n",
       "instrumentalness    float64\n",
       "key                   int64\n",
       "liveness            float64\n",
       "loudness            float64\n",
       "mode                  int64\n",
       "name                 object\n",
       "popularity            int64\n",
       "release_date         object\n",
       "speechiness         float64\n",
       "tempo               float64\n",
       "valence             float64\n",
       "year                  int64\n",
       "dtype: object"
      ]
     },
     "execution_count": 5,
     "metadata": {},
     "output_type": "execute_result"
    }
   ],
   "source": [
    "df.dtypes"
   ]
  },
  {
   "cell_type": "code",
   "execution_count": 3,
   "metadata": {},
   "outputs": [],
   "source": [
    "## Dropa colunas não utilizadas\n",
    "\n",
    "df.drop(columns=['id','release_date'],inplace=True)\n",
    "\n",
    "\n",
    "## Padroniza as colunas\n",
    "\n",
    "x=df[df.drop(columns=['artists','name']).columns].values\n",
    "scaler =StandardScaler().fit(x)\n",
    "X_scaled = scaler.transform(x)\n",
    "df[df.drop(columns=['artists','name']).columns]=X_scaled\n",
    "\n",
    "\n",
    "## Ordena os valores da coluna\n",
    "\n",
    "df.sort_values('tempo',inplace=True)"
   ]
  },
  {
   "cell_type": "code",
   "execution_count": 7,
   "metadata": {},
   "outputs": [],
   "source": [
    "## Função de recomendação\n",
    "\n",
    "def busca_musica(musica, df, number=10):\n",
    "    df.drop_duplicates(inplace=True)\n",
    "    musicas=df['name'].values\n",
    "    artistas=df['artists'].values\n",
    "    t=[]\n",
    "    count=0\n",
    "    if musica[-1]==' ':\n",
    "        musica=musica[:-1]\n",
    "    for i in musicas:\n",
    "        if musica.lower() in i.lower():\n",
    "            t.append([len(musica)/len(i),count])\n",
    "        else:\n",
    "            t.append([0,count])\n",
    "        count+=1\n",
    "    t.sort(reverse=True)\n",
    "    s=[[musicas[t[i][1]],artistas[t[i][1]].strip('][').split(', ')] for i in range(number)]   \n",
    "    lista_musicas=[musicas[t[i][1]] for i in range(number)]\n",
    "    artista=[artistas[t[i][1]] for i in range(number)]\n",
    "    x=[]\n",
    "    for i in s:\n",
    "        l=''\n",
    "        by=''\n",
    "        for j in i[1]:\n",
    "            by+=j\n",
    "        l+=i[0]+' by '+by\n",
    "        x.append(l)\n",
    "    tup=[]\n",
    "    for i in range(number):\n",
    "        tup.append((x[i],i))\n",
    "\n",
    "    \n",
    "    return tup,lista_musicas,artista"
   ]
  },
  {
   "cell_type": "code",
   "execution_count": 8,
   "metadata": {},
   "outputs": [],
   "source": [
    "def mat_corr(df,best,number,artista):\n",
    "    df.drop_duplicates(subset=['artists','name'],inplace=True)\n",
    "    x=df[(df['name']==best) & (df['artists']==artista)].drop(columns=['name','artists']).values\n",
    "    artista=artista.replace(\"'\",\"\").replace(\"'\",\"\").replace('[','').replace(']','')\n",
    "    if ',' in artista:\n",
    "        inm = artista.rfind(\",\")\n",
    "        artista=artista[:inm]+' and'+artista[inm+1:]\n",
    "    print('A música selecionada é:','\"',best,'\"',' por ','\"',artista,'\"')\n",
    "    \n",
    "\n",
    "    song_names=df['name'].values\n",
    "    p=[]\n",
    "    count=0\n",
    "    for i in df.drop(columns=['artists','name']).values:\n",
    "        p.append([distance.correlation(x,i),count])\n",
    "        count+=1\n",
    "    p.sort()\n",
    "    for i in range(1,number+1):\n",
    "        artistas=df['artists'].values\n",
    "        artista=artistas[p[i][1]]\n",
    "        artista=artista.replace(\"'\",\"\").replace(\"'\",\"\").replace('[','').replace(']','')\n",
    "        if ',' in artista:\n",
    "            inm = artista.rfind(\",\")\n",
    "            artista=artista[:inm]+' and'+artista[inm+1:]\n",
    "        print(song_names[p[i][1]],'by',artista)"
   ]
  },
  {
   "cell_type": "code",
   "execution_count": 9,
   "metadata": {},
   "outputs": [
    {
     "name": "stdout",
     "output_type": "stream",
     "text": [
      "Insira o nome da música:Baby\n",
      "Quantas recomendações você precisa? 5\n"
     ]
    },
    {
     "data": {
      "application/vnd.jupyter.widget-view+json": {
       "model_id": "dd0f37fee6c04c06995f576e26aec87b",
       "version_major": 2,
       "version_minor": 0
      },
      "text/plain": [
       "Dropdown(description='Selecione:Baby', options=((\"Baby by 'Ashanti'\", 0), (\"Baby by 'Os Mutantes'\", 1), (\"Baby…"
      ]
     },
     "metadata": {},
     "output_type": "display_data"
    }
   ],
   "source": [
    "a=input('Insira o nome da música:')\n",
    "b=int(input('Quantas recomendações você precisa? '))\n",
    "tup,s,ar=busca_musica(a,df)\n",
    "ans=widgets.Dropdown(\n",
    "    options=tup,\n",
    "    description='Selecione:'+a,\n",
    "    disabled=False,\n",
    ")\n",
    "display(ans)"
   ]
  },
  {
   "cell_type": "code",
   "execution_count": 10,
   "metadata": {},
   "outputs": [
    {
     "name": "stdout",
     "output_type": "stream",
     "text": [
      "A música selecionada é: \" Baby \"  por  \" Ashanti \"\n",
      "A Thousand Times by Ella Mai\n",
      "Ghetto Angels by NoCap\n",
      "Fuck You Tonight (feat. R. Kelly) - 2014 Remaster by The Notorious B.I.G. and R. Kelly\n",
      "Feelins by PnB Rock\n",
      "Ballin' by Jeezy and Lil Wayne\n"
     ]
    }
   ],
   "source": [
    "mat_corr(df,s[ans.value],b,ar[ans.value])"
   ]
  },
  {
   "cell_type": "code",
   "execution_count": null,
   "metadata": {},
   "outputs": [],
   "source": []
  }
 ],
 "metadata": {
  "kernelspec": {
   "display_name": "Python 3",
   "language": "python",
   "name": "python3"
  },
  "language_info": {
   "codemirror_mode": {
    "name": "ipython",
    "version": 3
   },
   "file_extension": ".py",
   "mimetype": "text/x-python",
   "name": "python",
   "nbconvert_exporter": "python",
   "pygments_lexer": "ipython3",
   "version": "3.8.5"
  }
 },
 "nbformat": 4,
 "nbformat_minor": 4
}
