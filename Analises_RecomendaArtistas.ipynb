{
 "cells": [
  {
   "cell_type": "code",
   "execution_count": 2,
   "metadata": {},
   "outputs": [],
   "source": [
    "## Importação das bibliotecas\n",
    "\n",
    "import pandas as pd\n",
    "import numpy as np\n",
    "import matplotlib.pyplot as plt"
   ]
  },
  {
   "cell_type": "code",
   "execution_count": 3,
   "metadata": {},
   "outputs": [],
   "source": [
    "df = pd.read_csv(r\"C:\\TCC\\result_artistas.csv\", delimiter =';', encoding = 'latin-1')"
   ]
  },
  {
   "cell_type": "code",
   "execution_count": 4,
   "metadata": {},
   "outputs": [],
   "source": [
    "## Cria as listas das colunas do Dataframe\n",
    "\n",
    "Atividade = df[\"Atividade\"].tolist()\n",
    "Nao_Atividade = df[\"Não atividade\"].tolist()\n",
    "Rock = df[\"Rock\"].tolist()\n",
    "Jazz = df[\"Jazz\"].tolist()\n",
    "Pop = df[\"Pop\"].tolist()\n",
    "Hip_Hop = df[\"Hip Hop\"].tolist()\n",
    "Samba = df[\"Samba\"].tolist()\n",
    "Feminino = df[\"Feminino\"].tolist()\n",
    "Masculino = df[\"Masculino\"].tolist()\n",
    "Solo = df[\"Solo\"].tolist()\n",
    "Banda = df[\"Banda\"].tolist()\n",
    "\n",
    "\n",
    "## Exclui os valores nan presentes nas listas\n",
    "\n",
    "Atividade = [x for x in Atividade if str(x) != 'nan']\n",
    "Nao_Atividade = [x for x in Nao_Atividade if str(x) != 'nan']\n",
    "Rock = [x for x in Rock if str(x) != 'nan']\n",
    "Jazz = [x for x in Jazz if str(x) != 'nan']\n",
    "Pop = [x for x in Pop if str(x) != 'nan']\n",
    "Hip_Hop = [x for x in Hip_Hop if str(x) != 'nan']\n",
    "Samba = [x for x in Samba if str(x) != 'nan']\n",
    "Feminino = [x for x in Feminino if str(x) != 'nan']\n",
    "Masculino = [x for x in Masculino if str(x) != 'nan']\n",
    "Solo = [x for x in Solo if str(x) != 'nan']\n",
    "Banda = [x for x in Banda if str(x) != 'nan']"
   ]
  },
  {
   "cell_type": "code",
   "execution_count": 5,
   "metadata": {},
   "outputs": [],
   "source": [
    "## Cria os totais das análises\n",
    "\n",
    "Atividade_Tot = len(Atividade)\n",
    "Nao_Atividade_Tot = len(Nao_Atividade)\n",
    "Rock_Tot = len(Rock)\n",
    "Jazz_Tot = len(Jazz)\n",
    "Pop_Tot = len(Pop)\n",
    "Hip_Hop_Tot = len(Hip_Hop)\n",
    "Samba_Tot = len(Samba)\n",
    "Feminino_Tot = len(Feminino)\n",
    "Masculino_Tot = len(Masculino)\n",
    "Solo_Tot = len(Solo)\n",
    "Banda_Tot = len(Banda)\n",
    "\n",
    "Por_Atividade_Tot = Atividade_Tot + Nao_Atividade_Tot\n",
    "Por_Estilo_Tot = Rock_Tot + Jazz_Tot + Pop_Tot + Hip_Hop_Tot + Samba_Tot\n",
    "Por_Sexo_Tot = Feminino_Tot + Masculino_Tot\n",
    "Por_Solo_Banda_Tot = Solo_Tot + Banda_Tot"
   ]
  },
  {
   "cell_type": "code",
   "execution_count": 6,
   "metadata": {},
   "outputs": [],
   "source": [
    "## Cria os subtotais que deram 'SIM'\n",
    "\n",
    "Atividade_Sim = Atividade.count('SIM')\n",
    "Nao_Atividade_Sim = Nao_Atividade.count('SIM')\n",
    "Rock_Sim = Rock.count('SIM')\n",
    "Jazz_Sim = Jazz.count('SIM')\n",
    "Pop_Sim = Pop.count('SIM')\n",
    "Hip_Hop_Sim = Hip_Hop.count('SIM')\n",
    "Samba_Sim = Samba.count('SIM')\n",
    "Feminino_Sim = Feminino.count('SIM')\n",
    "Masculino_Sim = Masculino.count('SIM')\n",
    "Solo_Sim = Solo.count('SIM')\n",
    "Banda_Sim = Banda.count('SIM')\n",
    "\n",
    "Por_Atividade_Sim = Atividade_Sim + Nao_Atividade_Sim\n",
    "Por_Estilo_Sim = Rock_Sim + Jazz_Sim + Pop_Sim + Hip_Hop_Sim + Samba_Sim\n",
    "Por_Sexo_Sim = Feminino_Sim + Masculino_Sim\n",
    "Por_Solo_Banda_Sim = Solo_Sim + Banda_Sim"
   ]
  },
  {
   "cell_type": "code",
   "execution_count": 7,
   "metadata": {},
   "outputs": [],
   "source": [
    "## Cria os percentuais\n",
    "\n",
    "Por_Atividade_Perc = Por_Atividade_Sim/Por_Atividade_Tot\n",
    "Por_Estilo_Perc = Por_Estilo_Sim/Por_Estilo_Tot\n",
    "Por_Sexo_Perc = Por_Sexo_Sim / Por_Sexo_Tot\n",
    "Por_Solo_Banda_Perc = Por_Solo_Banda_Sim / Por_Solo_Banda_Tot\n"
   ]
  },
  {
   "cell_type": "markdown",
   "metadata": {},
   "source": [
    "## Gráficos"
   ]
  },
  {
   "cell_type": "code",
   "execution_count": 8,
   "metadata": {},
   "outputs": [
    {
     "data": {
      "image/png": "[encoded data removed]",
      "text/plain": [
       "<Figure size 432x288 with 1 Axes>"
      ]
     },
     "metadata": {
      "needs_background": "light"
     },
     "output_type": "display_data"
    }
   ],
   "source": [
    "## Gráfico para o atributo 'Em Atividade'\n",
    "\n",
    "labels = ['Total','Sim']\n",
    "values = [Atividade_Tot, Atividade_Sim]\n",
    "\n",
    "x_pos = np.arange(len(labels))\n",
    "plt.bar(labels, values, color = \"red\")\n",
    "\n",
    "plt.title = ('Categorias X Percentual de Acertos')"
   ]
  },
  {
   "cell_type": "code",
   "execution_count": 9,
   "metadata": {},
   "outputs": [
    {
     "data": {
      "text/plain": [
       "<BarContainer object of 2 artists>"
      ]
     },
     "execution_count": 9,
     "metadata": {},
     "output_type": "execute_result"
    },
    {
     "data": {
      "image/png": "[encoded data removed]",
      "text/plain": [
       "<Figure size 432x288 with 1 Axes>"
      ]
     },
     "metadata": {
      "needs_background": "light"
     },
     "output_type": "display_data"
    }
   ],
   "source": [
    "## Gráfico para o atributo 'Não Atividade'\n",
    "\n",
    "labels = ['Total','Sim']\n",
    "values = [Nao_Atividade_Tot, Nao_Atividade_Sim]\n",
    "\n",
    "plt.bar(labels, values, color = \"blue\")\n",
    "\n"
   ]
  },
  {
   "cell_type": "code",
   "execution_count": 10,
   "metadata": {},
   "outputs": [
    {
     "data": {
      "text/plain": [
       "<BarContainer object of 2 artists>"
      ]
     },
     "execution_count": 10,
     "metadata": {},
     "output_type": "execute_result"
    },
    {
     "data": {
      "image/png": "[encoded data removed]",
      "text/plain": [
       "<Figure size 432x288 with 1 Axes>"
      ]
     },
     "metadata": {
      "needs_background": "light"
     },
     "output_type": "display_data"
    }
   ],
   "source": [
    "## Gráfico para o atributo 'Rock'\n",
    "\n",
    "labels = ['Total','Sim']\n",
    "values = [Rock_Tot, Rock_Sim]\n",
    "\n",
    "plt.bar(labels, values, color = \"orange\")"
   ]
  },
  {
   "cell_type": "code",
   "execution_count": 11,
   "metadata": {},
   "outputs": [
    {
     "data": {
      "text/plain": [
       "<BarContainer object of 2 artists>"
      ]
     },
     "execution_count": 11,
     "metadata": {},
     "output_type": "execute_result"
    },
    {
     "data": {
      "image/png": "[encoded data removed]",
      "text/plain": [
       "<Figure size 432x288 with 1 Axes>"
      ]
     },
     "metadata": {
      "needs_background": "light"
     },
     "output_type": "display_data"
    }
   ],
   "source": [
    "## Gráfico para o atributo 'Jazz'\n",
    "\n",
    "labels = ['Total','Sim']\n",
    "values = [Jazz_Tot, Jazz_Sim]\n",
    "\n",
    "plt.bar(labels, values, color = \"purple\")"
   ]
  },
  {
   "cell_type": "code",
   "execution_count": 12,
   "metadata": {},
   "outputs": [
    {
     "data": {
      "text/plain": [
       "<BarContainer object of 2 artists>"
      ]
     },
     "execution_count": 12,
     "metadata": {},
     "output_type": "execute_result"
    },
    {
     "data": {
      "image/png": "[encoded data removed]",
      "text/plain": [
       "<Figure size 432x288 with 1 Axes>"
      ]
     },
     "metadata": {
      "needs_background": "light"
     },
     "output_type": "display_data"
    }
   ],
   "source": [
    "## Gráfico para o atributo 'Pop'\n",
    "\n",
    "labels = ['Total','Sim']\n",
    "values = [Pop_Tot, Pop_Sim]\n",
    "\n",
    "plt.bar(labels, values, color = \"pink\")"
   ]
  },
  {
   "cell_type": "code",
   "execution_count": 13,
   "metadata": {},
   "outputs": [
    {
     "data": {
      "text/plain": [
       "<BarContainer object of 2 artists>"
      ]
     },
     "execution_count": 13,
     "metadata": {},
     "output_type": "execute_result"
    },
    {
     "data": {
      "image/png": "[encoded data removed]",
      "text/plain": [
       "<Figure size 432x288 with 1 Axes>"
      ]
     },
     "metadata": {
      "needs_background": "light"
     },
     "output_type": "display_data"
    }
   ],
   "source": [
    "## Gráfico para o atributo 'Hip Hop'\n",
    "\n",
    "labels = ['Total','Sim']\n",
    "values = [Hip_Hop_Tot, Hip_Hop_Sim]\n",
    "\n",
    "plt.bar(labels, values, color = \"green\")"
   ]
  },
  {
   "cell_type": "code",
   "execution_count": 14,
   "metadata": {},
   "outputs": [
    {
     "data": {
      "text/plain": [
       "<BarContainer object of 2 artists>"
      ]
     },
     "execution_count": 14,
     "metadata": {},
     "output_type": "execute_result"
    },
    {
     "data": {
      "image/png": "[encoded data removed]",
      "text/plain": [
       "<Figure size 432x288 with 1 Axes>"
      ]
     },
     "metadata": {
      "needs_background": "light"
     },
     "output_type": "display_data"
    }
   ],
   "source": [
    "## Gráfico para o atributo 'Samba'\n",
    "\n",
    "labels = ['Total','Sim']\n",
    "values = [Samba_Tot, Samba_Sim]\n",
    "\n",
    "plt.bar(labels, values, color = \"gray\")"
   ]
  },
  {
   "cell_type": "code",
   "execution_count": 15,
   "metadata": {},
   "outputs": [
    {
     "data": {
      "text/plain": [
       "<BarContainer object of 2 artists>"
      ]
     },
     "execution_count": 15,
     "metadata": {},
     "output_type": "execute_result"
    },
    {
     "data": {
      "image/png": "[encoded data removed]",
      "text/plain": [
       "<Figure size 432x288 with 1 Axes>"
      ]
     },
     "metadata": {
      "needs_background": "light"
     },
     "output_type": "display_data"
    }
   ],
   "source": [
    "## Gráfico para o atributo 'Feminino'\n",
    "\n",
    "labels = ['Total','Sim']\n",
    "values = [Feminino_Tot, Feminino_Sim]\n",
    "\n",
    "plt.bar(labels, values, color = \"red\")"
   ]
  },
  {
   "cell_type": "code",
   "execution_count": 16,
   "metadata": {},
   "outputs": [
    {
     "data": {
      "text/plain": [
       "<BarContainer object of 2 artists>"
      ]
     },
     "execution_count": 16,
     "metadata": {},
     "output_type": "execute_result"
    },
    {
     "data": {
      "image/png": "[encoded data removed]",
      "text/plain": [
       "<Figure size 432x288 with 1 Axes>"
      ]
     },
     "metadata": {
      "needs_background": "light"
     },
     "output_type": "display_data"
    }
   ],
   "source": [
    "## Gráfico para o atributo 'Masculino'\n",
    "\n",
    "labels = ['Total','Sim']\n",
    "values = [Masculino_Tot, Masculino_Sim]\n",
    "\n",
    "plt.bar(labels, values, color = \"blue\")"
   ]
  },
  {
   "cell_type": "code",
   "execution_count": 17,
   "metadata": {},
   "outputs": [
    {
     "data": {
      "text/plain": [
       "<BarContainer object of 2 artists>"
      ]
     },
     "execution_count": 17,
     "metadata": {},
     "output_type": "execute_result"
    },
    {
     "data": {
      "image/png": "[encoded data removed]",
      "text/plain": [
       "<Figure size 432x288 with 1 Axes>"
      ]
     },
     "metadata": {
      "needs_background": "light"
     },
     "output_type": "display_data"
    }
   ],
   "source": [
    "## Gráfico para o atributo 'Solo'\n",
    "\n",
    "labels = ['Total','Sim']\n",
    "values = [Solo_Tot, Solo_Sim]\n",
    "\n",
    "plt.bar(labels, values, color = \"green\")"
   ]
  },
  {
   "cell_type": "code",
   "execution_count": 18,
   "metadata": {},
   "outputs": [
    {
     "data": {
      "text/plain": [
       "<BarContainer object of 2 artists>"
      ]
     },
     "execution_count": 18,
     "metadata": {},
     "output_type": "execute_result"
    },
    {
     "data": {
      "image/png": "[encoded data removed]",
      "text/plain": [
       "<Figure size 432x288 with 1 Axes>"
      ]
     },
     "metadata": {
      "needs_background": "light"
     },
     "output_type": "display_data"
    }
   ],
   "source": [
    "## Gráfico para o atributo 'Banda'\n",
    "\n",
    "labels = ['Total','Sim']\n",
    "values = [Banda_Tot, Banda_Sim]\n",
    "\n",
    "plt.bar(labels, values, color = \"teal\")"
   ]
  },
  {
   "cell_type": "code",
   "execution_count": 19,
   "metadata": {},
   "outputs": [
    {
     "data": {
      "text/plain": [
       "<BarContainer object of 2 artists>"
      ]
     },
     "execution_count": 19,
     "metadata": {},
     "output_type": "execute_result"
    },
    {
     "data": {
      "image/png": "[encoded data removed]",
      "text/plain": [
       "<Figure size 432x288 with 1 Axes>"
      ]
     },
     "metadata": {
      "needs_background": "light"
     },
     "output_type": "display_data"
    }
   ],
   "source": [
    "## Gráfico para o indicador 'Por Atividade'\n",
    "\n",
    "labels = ['Total', 'Sim']\n",
    "values = [Por_Atividade_Tot, Por_Atividade_Sim]\n",
    "\n",
    "plt.bar(labels, values, color = \"navy\")"
   ]
  },
  {
   "cell_type": "code",
   "execution_count": 20,
   "metadata": {},
   "outputs": [
    {
     "data": {
      "text/plain": [
       "<BarContainer object of 2 artists>"
      ]
     },
     "execution_count": 20,
     "metadata": {},
     "output_type": "execute_result"
    },
    {
     "data": {
      "image/png": "[encoded data removed]",
      "text/plain": [
       "<Figure size 432x288 with 1 Axes>"
      ]
     },
     "metadata": {
      "needs_background": "light"
     },
     "output_type": "display_data"
    }
   ],
   "source": [
    "## Gráfico para o indicador 'Por Estilo Musical'\n",
    "\n",
    "labels = ['Total', 'Sim']\n",
    "values = [Por_Estilo_Tot, Por_Estilo_Sim]\n",
    "\n",
    "plt.bar(labels, values, color = \"red\")"
   ]
  },
  {
   "cell_type": "code",
   "execution_count": 21,
   "metadata": {},
   "outputs": [
    {
     "data": {
      "text/plain": [
       "<BarContainer object of 2 artists>"
      ]
     },
     "execution_count": 21,
     "metadata": {},
     "output_type": "execute_result"
    },
    {
     "data": {
      "image/png": "[encoded data removed]",
      "text/plain": [
       "<Figure size 432x288 with 1 Axes>"
      ]
     },
     "metadata": {
      "needs_background": "light"
     },
     "output_type": "display_data"
    }
   ],
   "source": [
    "## Gráfico para o indicador 'Por Sexo'\n",
    "\n",
    "labels = ['Total', 'Sim']\n",
    "values = [Por_Sexo_Tot, Por_Sexo_Sim]\n",
    "\n",
    "plt.bar(labels, values, color = \"green\")"
   ]
  },
  {
   "cell_type": "code",
   "execution_count": 22,
   "metadata": {},
   "outputs": [
    {
     "data": {
      "text/plain": [
       "<BarContainer object of 2 artists>"
      ]
     },
     "execution_count": 22,
     "metadata": {},
     "output_type": "execute_result"
    },
    {
     "data": {
      "image/png": "[encoded data removed]",
      "text/plain": [
       "<Figure size 432x288 with 1 Axes>"
      ]
     },
     "metadata": {
      "needs_background": "light"
     },
     "output_type": "display_data"
    }
   ],
   "source": [
    "## Gráfico para o indicador 'Solo/Bandas'\n",
    "\n",
    "labels = ['Total', 'Sim']\n",
    "values = [Por_Solo_Banda_Tot, Por_Solo_Banda_Sim]\n",
    "\n",
    "plt.bar(labels, values, color = \"gray\")"
   ]
  },
  {
   "cell_type": "code",
   "execution_count": 28,
   "metadata": {},
   "outputs": [
    {
     "data": {
      "image/png": "[encoded data removed]",
      "text/plain": [
       "<Figure size 432x288 with 1 Axes>"
      ]
     },
     "metadata": {
      "needs_background": "light"
     },
     "output_type": "display_data"
    }
   ],
   "source": [
    "## Melhores e piores indicadores\n",
    "\n",
    "labels = ['Por Atividade','Por Estilo Musical','Por Sexo','Solo/Bandas']\n",
    "values = [Por_Atividade_Perc, Por_Estilo_Perc, Por_Sexo_Perc, Por_Solo_Banda_Perc]\n",
    "\n",
    "barlist = plt.bar(labels, values)\n",
    "barlist[0].set_color('red')\n",
    "barlist[1].set_color('teal')\n",
    "barlist[2].set_color('orange')\n",
    "barlist[3].set_color('purple')"
   ]
  }
 ],
 "metadata": {
  "kernelspec": {
   "display_name": "Python 3",
   "language": "python",
   "name": "python3"
  },
  "language_info": {
   "codemirror_mode": {
    "name": "ipython",
    "version": 3
   },
   "file_extension": ".py",
   "mimetype": "text/x-python",
   "name": "python",
   "nbconvert_exporter": "python",
   "pygments_lexer": "ipython3",
   "version": "3.8.5"
  }
 },
 "nbformat": 4,
 "nbformat_minor": 4
}
