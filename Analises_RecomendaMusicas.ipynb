{
 "cells": [
  {
   "cell_type": "code",
   "execution_count": 1,
   "metadata": {},
   "outputs": [],
   "source": [
    "## Importação das bibliotecas\n",
    "\n",
    "import pandas as pd\n",
    "import numpy as np\n",
    "import matplotlib.pyplot as plt"
   ]
  },
  {
   "cell_type": "code",
   "execution_count": 2,
   "metadata": {},
   "outputs": [],
   "source": [
    "df = pd.read_csv(r\"C:\\TCC\\result_musicas.csv\", delimiter =';', encoding = 'latin-1')"
   ]
  },
  {
   "cell_type": "code",
   "execution_count": 3,
   "metadata": {},
   "outputs": [],
   "source": [
    "## Cria as listas das colunas do Dataframe\n",
    "\n",
    "Decada_60 = df[\"Década de 60\"].tolist()\n",
    "Decada_70 = df[\"Década de 70\"].tolist()\n",
    "Decada_80 = df[\"Década de 80\"].tolist()\n",
    "Decada_90 = df[\"Década de 90\"].tolist()\n",
    "Decada_2000 = df[\"Década de 2000\"].tolist()\n",
    "Rock = df[\"Rock\"].tolist()\n",
    "Jazz = df[\"Jazz\"].tolist()\n",
    "Pop = df[\"Pop\"].tolist()\n",
    "Hip_Hop = df[\"Hip Hop\"].tolist()\n",
    "Samba = df[\"Samba\"].tolist()\n",
    "\n",
    "\n",
    "\n",
    "## Exclui os valores nan presentes nas listas\n",
    "\n",
    "Decada_60 = [x for x in Decada_60 if str(x) != 'nan']\n",
    "Decada_70 = [x for x in Decada_70 if str(x) != 'nan']\n",
    "Decada_80 = [x for x in Decada_80 if str(x) != 'nan']\n",
    "Decada_90 = [x for x in Decada_90 if str(x) != 'nan']\n",
    "Decada_2000 = [x for x in Decada_2000 if str(x) != 'nan']\n",
    "Rock = [x for x in Rock if str(x) != 'nan']\n",
    "Jazz = [x for x in Jazz if str(x) != 'nan']\n",
    "Pop = [x for x in Pop if str(x) != 'nan']\n",
    "Hip_Hop = [x for x in Hip_Hop if str(x) != 'nan']\n",
    "Samba = [x for x in Samba if str(x) != 'nan']\n"
   ]
  },
  {
   "cell_type": "code",
   "execution_count": 4,
   "metadata": {},
   "outputs": [],
   "source": [
    "## Cria os totais das análises\n",
    "\n",
    "Decada_60_Tot = len(Decada_60)\n",
    "Decada_70_Tot = len(Decada_70)\n",
    "Decada_80_Tot = len(Decada_80)\n",
    "Decada_90_Tot = len(Decada_90)\n",
    "Decada_2000_Tot = len(Decada_2000)\n",
    "Rock_Tot = len(Rock)\n",
    "Jazz_Tot = len(Jazz)\n",
    "Pop_Tot = len(Pop)\n",
    "Hip_Hop_Tot = len(Hip_Hop)\n",
    "Samba_Tot = len(Samba)\n",
    "\n",
    "\n",
    "Por_Decada_Tot = Decada_60_Tot + Decada_70_Tot + Decada_80_Tot + Decada_90_Tot + Decada_2000_Tot\n",
    "Por_Estilo_Tot = Rock_Tot + Jazz_Tot + Pop_Tot + Hip_Hop_Tot + Samba_Tot\n"
   ]
  },
  {
   "cell_type": "code",
   "execution_count": 5,
   "metadata": {},
   "outputs": [],
   "source": [
    "## Cria os subtotais que deram 'SIM'\n",
    "\n",
    "Decada_60_Sim = Decada_60.count('SIM')\n",
    "Decada_70_Sim = Decada_70.count('SIM')\n",
    "Decada_80_Sim = Decada_80.count('SIM')\n",
    "Decada_90_Sim = Decada_90.count('SIM')\n",
    "Decada_2000_Sim = Decada_2000.count('SIM')\n",
    "Rock_Sim = Rock.count('SIM')\n",
    "Jazz_Sim = Jazz.count('SIM')\n",
    "Pop_Sim = Pop.count('SIM')\n",
    "Hip_Hop_Sim = Hip_Hop.count('SIM')\n",
    "Samba_Sim = Samba.count('SIM')\n",
    "\n",
    "\n",
    "Por_Decada_Sim = Decada_60_Sim + Decada_70_Sim + Decada_80_Sim + Decada_90_Sim + Decada_2000_Sim\n",
    "Por_Estilo_Sim = Rock_Sim + Jazz_Sim + Pop_Sim + Hip_Hop_Sim + Samba_Sim\n"
   ]
  },
  {
   "cell_type": "code",
   "execution_count": 6,
   "metadata": {},
   "outputs": [],
   "source": [
    "## Cria os percentuais\n",
    "\n",
    "Por_Decada_Perc = Por_Decada_Sim/Por_Decada_Tot\n",
    "Por_Estilo_Perc = Por_Estilo_Sim/Por_Estilo_Tot\n"
   ]
  },
  {
   "cell_type": "markdown",
   "metadata": {},
   "source": [
    "## Gráficos"
   ]
  },
  {
   "cell_type": "code",
   "execution_count": 7,
   "metadata": {},
   "outputs": [
    {
     "data": {
      "image/png": "[encoded data removed]",
      "text/plain": [
       "<Figure size 432x288 with 1 Axes>"
      ]
     },
     "metadata": {
      "needs_background": "light"
     },
     "output_type": "display_data"
    }
   ],
   "source": [
    "## Gráfico para o atributo 'Década de 60'\n",
    "\n",
    "labels = ['Total','Sim']\n",
    "values = [Decada_60_Tot, Decada_60_Sim]\n",
    "\n",
    "x_pos = np.arange(len(labels))\n",
    "plt.bar(labels, values, color = \"red\")\n",
    "\n",
    "plt.title = ('Categorias X Percentual de Acertos')"
   ]
  },
  {
   "cell_type": "code",
   "execution_count": 8,
   "metadata": {},
   "outputs": [
    {
     "data": {
      "image/png": "[encoded data removed]",
      "text/plain": [
       "<Figure size 432x288 with 1 Axes>"
      ]
     },
     "metadata": {
      "needs_background": "light"
     },
     "output_type": "display_data"
    }
   ],
   "source": [
    "## Gráfico para o atributo 'Década de 70'\n",
    "\n",
    "labels = ['Total','Sim']\n",
    "values = [Decada_70_Tot, Decada_70_Sim]\n",
    "\n",
    "x_pos = np.arange(len(labels))\n",
    "plt.bar(labels, values, color = \"green\")\n",
    "\n",
    "plt.title = ('Categorias X Percentual de Acertos')"
   ]
  },
  {
   "cell_type": "code",
   "execution_count": 9,
   "metadata": {},
   "outputs": [
    {
     "data": {
      "image/png": "[encoded data removed]",
      "text/plain": [
       "<Figure size 432x288 with 1 Axes>"
      ]
     },
     "metadata": {
      "needs_background": "light"
     },
     "output_type": "display_data"
    }
   ],
   "source": [
    "## Gráfico para o atributo 'Década de 80'\n",
    "\n",
    "labels = ['Total','Sim']\n",
    "values = [Decada_80_Tot, Decada_80_Sim]\n",
    "\n",
    "x_pos = np.arange(len(labels))\n",
    "plt.bar(labels, values, color = \"navy\")\n",
    "\n",
    "plt.title = ('Categorias X Percentual de Acertos')"
   ]
  },
  {
   "cell_type": "code",
   "execution_count": 10,
   "metadata": {},
   "outputs": [
    {
     "data": {
      "image/png": "[encoded data removed]",
      "text/plain": [
       "<Figure size 432x288 with 1 Axes>"
      ]
     },
     "metadata": {
      "needs_background": "light"
     },
     "output_type": "display_data"
    }
   ],
   "source": [
    "## Gráfico para o atributo 'Década de 90'\n",
    "\n",
    "labels = ['Total','Sim']\n",
    "values = [Decada_90_Tot, Decada_90_Sim]\n",
    "\n",
    "x_pos = np.arange(len(labels))\n",
    "plt.bar(labels, values, color = \"orange\")\n",
    "\n",
    "plt.title = ('Categorias X Percentual de Acertos')"
   ]
  },
  {
   "cell_type": "code",
   "execution_count": 11,
   "metadata": {},
   "outputs": [
    {
     "data": {
      "image/png": "[encoded data removed]",
      "text/plain": [
       "<Figure size 432x288 with 1 Axes>"
      ]
     },
     "metadata": {
      "needs_background": "light"
     },
     "output_type": "display_data"
    }
   ],
   "source": [
    "## Gráfico para o atributo 'Década de 2000'\n",
    "\n",
    "labels = ['Total','Sim']\n",
    "values = [Decada_2000_Tot, Decada_2000_Sim]\n",
    "\n",
    "x_pos = np.arange(len(labels))\n",
    "plt.bar(labels, values, color = \"purple\")\n",
    "\n",
    "plt.title = ('Categorias X Percentual de Acertos')"
   ]
  },
  {
   "cell_type": "code",
   "execution_count": 12,
   "metadata": {},
   "outputs": [
    {
     "data": {
      "text/plain": [
       "<BarContainer object of 2 artists>"
      ]
     },
     "execution_count": 12,
     "metadata": {},
     "output_type": "execute_result"
    },
    {
     "data": {
      "image/png": "[encoded data removed]",
      "text/plain": [
       "<Figure size 432x288 with 1 Axes>"
      ]
     },
     "metadata": {
      "needs_background": "light"
     },
     "output_type": "display_data"
    }
   ],
   "source": [
    "## Gráfico para o atributo 'Rock'\n",
    "\n",
    "labels = ['Total','Sim']\n",
    "values = [Rock_Tot, Rock_Sim]\n",
    "\n",
    "plt.bar(labels, values, color = \"gray\")"
   ]
  },
  {
   "cell_type": "code",
   "execution_count": 13,
   "metadata": {},
   "outputs": [
    {
     "data": {
      "text/plain": [
       "<BarContainer object of 2 artists>"
      ]
     },
     "execution_count": 13,
     "metadata": {},
     "output_type": "execute_result"
    },
    {
     "data": {
      "image/png": "[encoded data removed]",
      "text/plain": [
       "<Figure size 432x288 with 1 Axes>"
      ]
     },
     "metadata": {
      "needs_background": "light"
     },
     "output_type": "display_data"
    }
   ],
   "source": [
    "## Gráfico para o atributo 'Jazz'\n",
    "\n",
    "labels = ['Total','Sim']\n",
    "values = [Jazz_Tot, Jazz_Sim]\n",
    "\n",
    "plt.bar(labels, values, color = \"teal\")"
   ]
  },
  {
   "cell_type": "code",
   "execution_count": 14,
   "metadata": {},
   "outputs": [
    {
     "data": {
      "text/plain": [
       "<BarContainer object of 2 artists>"
      ]
     },
     "execution_count": 14,
     "metadata": {},
     "output_type": "execute_result"
    },
    {
     "data": {
      "image/png": "[encoded data removed]",
      "text/plain": [
       "<Figure size 432x288 with 1 Axes>"
      ]
     },
     "metadata": {
      "needs_background": "light"
     },
     "output_type": "display_data"
    }
   ],
   "source": [
    "## Gráfico para o atributo 'Pop'\n",
    "\n",
    "labels = ['Total','Sim']\n",
    "values = [Pop_Tot, Pop_Sim]\n",
    "\n",
    "plt.bar(labels, values, color = \"orange\")"
   ]
  },
  {
   "cell_type": "code",
   "execution_count": 15,
   "metadata": {},
   "outputs": [
    {
     "data": {
      "text/plain": [
       "<BarContainer object of 2 artists>"
      ]
     },
     "execution_count": 15,
     "metadata": {},
     "output_type": "execute_result"
    },
    {
     "data": {
      "image/png": "[encoded data removed]",
      "text/plain": [
       "<Figure size 432x288 with 1 Axes>"
      ]
     },
     "metadata": {
      "needs_background": "light"
     },
     "output_type": "display_data"
    }
   ],
   "source": [
    "## Gráfico para o atributo 'Hip Hop'\n",
    "\n",
    "labels = ['Total','Sim']\n",
    "values = [Hip_Hop_Tot, Hip_Hop_Sim]\n",
    "\n",
    "plt.bar(labels, values, color = \"green\")"
   ]
  },
  {
   "cell_type": "code",
   "execution_count": 16,
   "metadata": {},
   "outputs": [
    {
     "data": {
      "text/plain": [
       "<BarContainer object of 2 artists>"
      ]
     },
     "execution_count": 16,
     "metadata": {},
     "output_type": "execute_result"
    },
    {
     "data": {
      "image/png": "[encoded data removed]",
      "text/plain": [
       "<Figure size 432x288 with 1 Axes>"
      ]
     },
     "metadata": {
      "needs_background": "light"
     },
     "output_type": "display_data"
    }
   ],
   "source": [
    "## Gráfico para o atributo 'Samba'\n",
    "\n",
    "labels = ['Total','Sim']\n",
    "values = [Samba_Tot, Samba_Sim]\n",
    "\n",
    "plt.bar(labels, values, color = \"red\")"
   ]
  },
  {
   "cell_type": "code",
   "execution_count": 17,
   "metadata": {},
   "outputs": [
    {
     "data": {
      "text/plain": [
       "<BarContainer object of 2 artists>"
      ]
     },
     "execution_count": 17,
     "metadata": {},
     "output_type": "execute_result"
    },
    {
     "data": {
      "image/png": "[encoded data removed]",
      "text/plain": [
       "<Figure size 432x288 with 1 Axes>"
      ]
     },
     "metadata": {
      "needs_background": "light"
     },
     "output_type": "display_data"
    }
   ],
   "source": [
    "## Gráfico para o indicador 'Por Década'\n",
    "\n",
    "labels = ['Total', 'Sim']\n",
    "values = [Por_Decada_Tot, Por_Decada_Sim]\n",
    "\n",
    "plt.bar(labels, values, color = \"red\")"
   ]
  },
  {
   "cell_type": "code",
   "execution_count": 21,
   "metadata": {},
   "outputs": [
    {
     "data": {
      "text/plain": [
       "<BarContainer object of 2 artists>"
      ]
     },
     "execution_count": 21,
     "metadata": {},
     "output_type": "execute_result"
    },
    {
     "data": {
      "image/png": "[encoded data removed]",
      "text/plain": [
       "<Figure size 432x288 with 1 Axes>"
      ]
     },
     "metadata": {
      "needs_background": "light"
     },
     "output_type": "display_data"
    }
   ],
   "source": [
    "## Gráfico para o indicador 'Por Estilo Musical'\n",
    "\n",
    "labels = ['Total', 'Sim']\n",
    "values = [Por_Estilo_Tot, Por_Estilo_Sim]\n",
    "\n",
    "plt.bar(labels, values, color = \"green\")"
   ]
  },
  {
   "cell_type": "code",
   "execution_count": 23,
   "metadata": {},
   "outputs": [
    {
     "data": {
      "image/png": "[encoded data removed]",
      "text/plain": [
       "<Figure size 432x288 with 1 Axes>"
      ]
     },
     "metadata": {
      "needs_background": "light"
     },
     "output_type": "display_data"
    }
   ],
   "source": [
    "## Melhores e piores indicadores\n",
    "\n",
    "labels = ['Por Década','Por Estilo Musical']\n",
    "values = [Por_Decada_Perc, Por_Estilo_Perc]\n",
    "\n",
    "barlist = plt.bar(labels, values)\n",
    "barlist[0].set_color('purple')\n",
    "barlist[1].set_color('teal')\n"
   ]
  }
 ],
 "metadata": {
  "kernelspec": {
   "display_name": "Python 3",
   "language": "python",
   "name": "python3"
  },
  "language_info": {
   "codemirror_mode": {
    "name": "ipython",
    "version": 3
   },
   "file_extension": ".py",
   "mimetype": "text/x-python",
   "name": "python",
   "nbconvert_exporter": "python",
   "pygments_lexer": "ipython3",
   "version": "3.8.5"
  }
 },
 "nbformat": 4,
 "nbformat_minor": 4
}
