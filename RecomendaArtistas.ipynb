{
 "cells": [
  {
   "cell_type": "code",
   "execution_count": 1,
   "metadata": {},
   "outputs": [],
   "source": [
    "## Importação das bibliotecas\n",
    "\n",
    "import pandas as pd\n",
    "import numpy as np\n",
    "import os\n",
    "from sklearn.preprocessing import StandardScaler"
   ]
  },
  {
   "cell_type": "code",
   "execution_count": 2,
   "metadata": {},
   "outputs": [],
   "source": [
    "## Importação dos datasets\n",
    "\n",
    "df = pd.read_csv(r\"C:\\TCC\\Datasets\\data_by_artist.csv\", delimiter =',', encoding='latin-1')"
   ]
  },
  {
   "cell_type": "code",
   "execution_count": 3,
   "metadata": {},
   "outputs": [],
   "source": [
    "## Elimina duplicatas\n",
    "\n",
    "df.artists.str.strip()\n",
    "df = df.drop_duplicates(subset='artists',keep=False)\n",
    "\n",
    "\n",
    "## Dropa colunas não utilizadas\n",
    "\n",
    "df.drop(['count','duration_ms','key','mode'],axis=1,inplace=True)\n",
    "\n",
    "\n",
    "## Padroniza as colunas\n",
    "\n",
    "x=df[df.drop(columns=['artists']).columns].values\n",
    "scaler =StandardScaler().fit(x)\n",
    "X_scaled = scaler.transform(x)\n",
    "df[df.drop(columns=['artists']).columns]=X_scaled"
   ]
  },
  {
   "cell_type": "code",
   "execution_count": 4,
   "metadata": {},
   "outputs": [],
   "source": [
    "## Cria as variáveis utilizadas na recomendação\n",
    "\n",
    "df2=pd.melt(df,id_vars=['artists'],var_name='song_features', value_name='values')\n",
    "\n",
    "\n",
    "## Cria uma tabela pivoteada do dataset\n",
    "\n",
    "art_mat=df2.pivot_table(index=\"song_features\",columns=\"artists\",values=\"values\")"
   ]
  },
  {
   "cell_type": "code",
   "execution_count": 5,
   "metadata": {},
   "outputs": [],
   "source": [
    "## Inserindo os artistas favoritos:\n",
    "\n",
    "def lista(): \n",
    "    artistas = []\n",
    "    print(\"Insira o nome do artista analisado: \")\n",
    "    inp = input()\n",
    "    artistas.append(inp)\n",
    "    \n",
    "    while inp != \"\":\n",
    "        print(\"Adicione mais artistas, se necessário: \")\n",
    "        inp = input()\n",
    "        artistas.append(inp)\n",
    "    \n",
    "    artistas.remove(\"\")    \n",
    "    print(f\"A lista de artistas recomendados para {artistas}\"\" é:\")\n",
    "    return artistas"
   ]
  },
  {
   "cell_type": "code",
   "execution_count": 6,
   "metadata": {},
   "outputs": [],
   "source": [
    "##Função de recomendação:\n",
    "\n",
    "def recomenda(lista_artista,artist_matrix): \n",
    "    lista_artista = lista() \n",
    "    art_corr_df = pd.DataFrame()\n",
    "    count = 0\n",
    "    for artista in lista_artista:\n",
    "        \n",
    "        if artista in art_mat.columns:\n",
    "            artist_values = artist_matrix[artista]\n",
    "            similares = artist_matrix.corrwith(artist_values)\n",
    "            similares = pd.DataFrame(similares,columns=['Correlation'])\n",
    "            similares = similares.sort_values(by=\"Correlation\",ascending=False).head(10)\n",
    "            art_corr_df = art_corr_df.append(similares)\n",
    "        \n",
    "        else:\n",
    "            print(f\"{artista} não existe no dataset\")\n",
    "            count = count + 1\n",
    "    \n",
    "    if len(lista_artista)==count:        \n",
    "        return print(\"Nenhum artista digitado está no dataset.\")\n",
    "    \n",
    "    else:\n",
    "        art_corr_df.dropna(inplace=True)\n",
    "        art_corr_df.reset_index(inplace=True)\n",
    "        art_corr_df = art_corr_df.drop_duplicates(subset='artists',keep = False)\n",
    "        art_corr_df = art_corr_df[art_corr_df.Correlation != 1.000000]\n",
    "        art_corr_df = art_corr_df.sort_values(by=\"Correlation\",ascending = False)\n",
    "        art_corr_df.reset_index(inplace=True)\n",
    "        art_corr_df = art_corr_df.drop('index',axis=1)\n",
    "        \n",
    "        return art_corr_df"
   ]
  },
  {
   "cell_type": "code",
   "execution_count": 7,
   "metadata": {},
   "outputs": [
    {
     "name": "stdout",
     "output_type": "stream",
     "text": [
      "Insira o nome do artista analisado: \n",
      "Madonna\n",
      "Adicione mais artistas, se necessário: \n",
      "\n",
      "A lista de artistas recomendados para ['Madonna'] é:\n"
     ]
    },
    {
     "data": {
      "text/html": [
       "<div>\n",
       "<style scoped>\n",
       "    .dataframe tbody tr th:only-of-type {\n",
       "        vertical-align: middle;\n",
       "    }\n",
       "\n",
       "    .dataframe tbody tr th {\n",
       "        vertical-align: top;\n",
       "    }\n",
       "\n",
       "    .dataframe thead th {\n",
       "        text-align: right;\n",
       "    }\n",
       "</style>\n",
       "<table border=\"1\" class=\"dataframe\">\n",
       "  <thead>\n",
       "    <tr style=\"text-align: right;\">\n",
       "      <th></th>\n",
       "      <th>artists</th>\n",
       "      <th>Correlation</th>\n",
       "    </tr>\n",
       "  </thead>\n",
       "  <tbody>\n",
       "    <tr>\n",
       "      <th>0</th>\n",
       "      <td>Madonna</td>\n",
       "      <td>1.000000</td>\n",
       "    </tr>\n",
       "    <tr>\n",
       "      <th>1</th>\n",
       "      <td>Tina Turner</td>\n",
       "      <td>0.988023</td>\n",
       "    </tr>\n",
       "    <tr>\n",
       "      <th>2</th>\n",
       "      <td>Superpower</td>\n",
       "      <td>0.981694</td>\n",
       "    </tr>\n",
       "    <tr>\n",
       "      <th>3</th>\n",
       "      <td>Young-D</td>\n",
       "      <td>0.981694</td>\n",
       "    </tr>\n",
       "    <tr>\n",
       "      <th>4</th>\n",
       "      <td>Erick Morillo</td>\n",
       "      <td>0.981667</td>\n",
       "    </tr>\n",
       "    <tr>\n",
       "      <th>5</th>\n",
       "      <td>Technotronic</td>\n",
       "      <td>0.980418</td>\n",
       "    </tr>\n",
       "    <tr>\n",
       "      <th>6</th>\n",
       "      <td>Charly GarcÃ­a</td>\n",
       "      <td>0.979646</td>\n",
       "    </tr>\n",
       "    <tr>\n",
       "      <th>7</th>\n",
       "      <td>Los Amigos Invisibles</td>\n",
       "      <td>0.978197</td>\n",
       "    </tr>\n",
       "    <tr>\n",
       "      <th>8</th>\n",
       "      <td>Reel 2 Real</td>\n",
       "      <td>0.978077</td>\n",
       "    </tr>\n",
       "    <tr>\n",
       "      <th>9</th>\n",
       "      <td>After 7</td>\n",
       "      <td>0.977500</td>\n",
       "    </tr>\n",
       "  </tbody>\n",
       "</table>\n",
       "</div>"
      ],
      "text/plain": [
       "                 artists  Correlation\n",
       "0                Madonna     1.000000\n",
       "1            Tina Turner     0.988023\n",
       "2             Superpower     0.981694\n",
       "3                Young-D     0.981694\n",
       "4          Erick Morillo     0.981667\n",
       "5           Technotronic     0.980418\n",
       "6         Charly GarcÃ­a     0.979646\n",
       "7  Los Amigos Invisibles     0.978197\n",
       "8            Reel 2 Real     0.978077\n",
       "9                After 7     0.977500"
      ]
     },
     "execution_count": 7,
     "metadata": {},
     "output_type": "execute_result"
    }
   ],
   "source": [
    "lista_artista = lista\n",
    "recomenda(lista_artista, art_mat)"
   ]
  },
  {
   "cell_type": "code",
   "execution_count": null,
   "metadata": {},
   "outputs": [],
   "source": []
  },
  {
   "cell_type": "code",
   "execution_count": null,
   "metadata": {},
   "outputs": [],
   "source": []
  }
 ],
 "metadata": {
  "kernelspec": {
   "display_name": "Python 3",
   "language": "python",
   "name": "python3"
  },
  "language_info": {
   "codemirror_mode": {
    "name": "ipython",
    "version": 3
   },
   "file_extension": ".py",
   "mimetype": "text/x-python",
   "name": "python",
   "nbconvert_exporter": "python",
   "pygments_lexer": "ipython3",
   "version": "3.8.5"
  }
 },
 "nbformat": 4,
 "nbformat_minor": 4
}
